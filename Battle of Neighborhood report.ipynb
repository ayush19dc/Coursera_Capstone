{
 "cells": [
  {
   "cell_type": "markdown",
   "metadata": {},
   "source": [
    "#                                            The Battle of Neighborhood "
   ]
  },
  {
   "cell_type": "markdown",
   "metadata": {},
   "source": [
    "# Introduction"
   ]
  },
  {
   "cell_type": "markdown",
   "metadata": {},
   "source": [
    "The City of New York, is the most populous city in the United States. It is diverse and is the financial capital of USA. It is multicultural. It provides lot of business oppourtunities and business friendly environment. It has attracted many different players into the market. It is a global hub of business and commerce. The city is a major center for banking and finance, retailing, world trade, transportation, tourism, real estate, new media, traditional media, advertising, legal services, accountancy, insurance, theater, fashion, and the arts in the United States.\n",
    "\n",
    "This also means that the market is highly competitive. As it is highly developed city so cost of doing business is also one of the highest. Thus, any new business venture or expansion needs to be analysed carefully. The insights derived from analysis will give good understanding of the business environment which help in strategically targeting the market. This will help in reduction of risk. And the Return on Investment will be reasonable."
   ]
  },
  {
   "cell_type": "markdown",
   "metadata": {},
   "source": [
    "# Buisness Problem"
   ]
  },
  {
   "cell_type": "markdown",
   "metadata": {},
   "source": [
    "A restaurant is a business which prepares and serves food and drink to customers in return for money, either paid before the meal, after the meal, or with an open account. The City of New York is famous for its excelllent cuisine. It's food culture includes an array of international cuisines influenced by the city's immigrant history.\n",
    "\n",
    "1.Central and Eastern European immigrants, especially Jewish immigrants - bagels, cheesecake, hot dogs, knishes, and delicatessens\n",
    "2.Italian immigrants - New York-style pizza and Italian cuisine\n",
    "3.Jewish immigrants and Irish immigrants - pastrami and corned beef\n",
    "4.Chinese and other Asian restaurants, sandwich joints, trattorias, diners, and coffeehouses are ubiquitous throughout the city\n",
    "5.mobile food vendors - Some 4,000 licensed by the city\n",
    "6.Middle Eastern foods such as falafel and kebabs examples of modern New York street food\n",
    "7.It is famous for not just Pizzerias, Cafe's but also for fine dining Michelin starred restaurants.The city is home to \"nearly one thousand of the finest and most diverse haute cuisine restaurants in the world\", according to Michelin.\n",
    "\n",
    "So it is evident that to survive in such competitive market it is very important to startegically plan. Various factors need to be studied inorder to decide on the Location such as :\n",
    "\n",
    "1.New York Population\n",
    "2.New York City Demographics\n",
    "3.Are there any Farmers Markets, Wholesale markets etc nearby so that the ingredients can be purchased fresh to maintain quality and cost?\n",
    "4.Are there any venues like Gyms, Entertainmnet zones, Parks etc nearby where floating population is high etc\n",
    "5.Who are the competitors in that location?\n",
    "6.Cuisine served / Menu of the competitors\n",
    "6.Segmentation of the Borough\n",
    "7.Untapped markets\n",
    "8.Saturated markets etc\n",
    "9.The list can go on...\n",
    "Eventhough well funded ABC Company Ltd. need to choose the correct location to start its first venture.If this is successful they can replicate the same in other locations. First move is very important, thereby choice of location is very important."
   ]
  },
  {
   "cell_type": "markdown",
   "metadata": {},
   "source": [
    "# Target Audience"
   ]
  },
  {
   "cell_type": "markdown",
   "metadata": {},
   "source": [
    "\n",
    "To recommend the correct location, ABC Company Ltd has appointed me to lead of the Data Science team. The objective is to locate and recommend to the management which neighborhood of Newyork city will be best choice to start a restaurant. The Management also expects to understand the rationale of the recommendations made.\n",
    "\n",
    "This would interest anyone who wants to start a new restaurant in Newyork city."
   ]
  },
  {
   "cell_type": "markdown",
   "metadata": {},
   "source": [
    "# Data"
   ]
  },
  {
   "cell_type": "markdown",
   "metadata": {},
   "source": [
    "To solve the problem, we will need the following data: \n",
    "    \n",
    "• List of neighbourhoods this defines the scope of this project .\n",
    "• Latitude and longitude coordinates of those neighbourhoods. This is required in order to \n",
    "plot the map and also to get the venue data. \n",
    "• Venue data, particularly data related, we will use this data to perform \n",
    "clustering on the neighbourhoods."
   ]
  },
  {
   "cell_type": "markdown",
   "metadata": {},
   "source": [
    "The Wikipedia page contains a \n",
    "list of neighbourhoods in Newyork city. We will use web scraping \n",
    "techniques to extract the data from the Wikipedia page, with the help of Python requests and \n",
    "beautifulsoup packages. Then we will get the geographical coordinates of the neighbourhoods using \n",
    "Python Geocoder package which will give us the latitude and longitude coordinates of the \n",
    "neighbourhoods.  \n",
    "After that, we will use Foursquare API to get the venue data for those neighbourhoods. Foursquare \n",
    "has one of the largest database. \n",
    "Foursquare API will provide many categories of the venue data, we are particularly interested in . This is a \n",
    "project that will make use of many data science skills, from web scraping (Wikipedia), working with \n",
    "API (Foursquare), data cleaning, data wrangling, to machine learning (K-means clustering) and map \n",
    "visualization (Folium). In the next section, we will present the Methodology section where we will \n",
    "discuss the steps taken in this project, the data analysis that we did and the machine learning \n",
    "technique that was used. "
   ]
  },
  {
   "cell_type": "markdown",
   "metadata": {},
   "source": [
    "# Conclusion"
   ]
  },
  {
   "cell_type": "markdown",
   "metadata": {},
   "source": [
    "For travelers:\n",
    "Providence may more suitable to spend a good amount time of enjoy the local food\n",
    "\n",
    "For business owners:\n",
    "Providence is good place to open small business related to food.\n"
   ]
  }
 ],
 "metadata": {
  "kernelspec": {
   "display_name": "Python 3",
   "language": "python",
   "name": "python3"
  },
  "language_info": {
   "codemirror_mode": {
    "name": "ipython",
    "version": 3
   },
   "file_extension": ".py",
   "mimetype": "text/x-python",
   "name": "python",
   "nbconvert_exporter": "python",
   "pygments_lexer": "ipython3",
   "version": "3.7.3"
  }
 },
 "nbformat": 4,
 "nbformat_minor": 2
}
